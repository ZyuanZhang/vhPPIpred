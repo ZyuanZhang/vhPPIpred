{
 "cells": [
  {
   "cell_type": "markdown",
   "id": "224f2b1d-392e-48d0-b93d-bbf57110235e",
   "metadata": {},
   "source": [
    "# 1. Construction of benchmark dataset:"
   ]
  },
  {
   "cell_type": "code",
   "execution_count": 35,
   "id": "c79747d0-e648-4821-b5a2-4288de24dc4c",
   "metadata": {},
   "outputs": [],
   "source": [
    "## 导入模块\n",
    "\n",
    "import pandas as pd\n",
    "from collections import Counter, defaultdict\n",
    "import random\n",
    "from itertools import product\n",
    "import numpy as np\n",
    "from Bio import SeqIO\n",
    "from matplotlib_venn import venn2\n",
    "import matplotlib.pyplot as plt"
   ]
  },
  {
   "cell_type": "markdown",
   "id": "8d4536c2-7c4a-4f6b-8c18-27da99b27fc7",
   "metadata": {},
   "source": [
    "## 1.1 Construction of Positive PPIs"
   ]
  },
  {
   "cell_type": "code",
   "execution_count": 36,
   "id": "0cfd8934-1412-4cf2-8be5-926fec0f2645",
   "metadata": {},
   "outputs": [],
   "source": [
    "## 正样本病毒蛋白和人类蛋白簇\n",
    "\n",
    "dt_virus_cluster = pd.read_csv(\"../original_dataset/virus_prots_posRes_cluster.tsv\", sep=\"\\t\", names=[\"cluster\",\"representative\"])\n",
    "dt_ppi_pos = pd.read_csv(\"../original_dataset/virus_human_physical_ppi.txt\", sep=\"\\t\", header=0)"
   ]
  },
  {
   "cell_type": "code",
   "execution_count": 37,
   "id": "7dd5f474-8143-4022-b8c8-8f0844065af0",
   "metadata": {},
   "outputs": [
    {
     "name": "stdout",
     "output_type": "stream",
     "text": [
      "  virus_cluster  ppi_count\n",
      "0        P0DTC4        993\n",
      "1        K9N7A1        926\n",
      "2        A4GXH6        831\n",
      "3        P0DTC8        795\n",
      "4        P59632        694\n",
      "5        P0DTC6        600\n",
      "6        A4GXH0        530\n",
      "7        B4URE7        521\n",
      "8        A4ZNP8        517\n",
      "9        P06429        503\n",
      "    virus_cluster  ppi_count\n",
      "496        Q9YJQ8          1\n",
      "497        Q777E0          1\n",
      "498        Q9WMB4          1\n",
      "499        Q786F3          1\n",
      "500        F5H9G3          1\n"
     ]
    }
   ],
   "source": [
    "## 根据病毒蛋白簇统计ppi数目\n",
    "\n",
    "dict_virus_cluster = {dt_virus_cluster[\"representative\"][i]:dt_virus_cluster[\"cluster\"][i] for i in range(dt_virus_cluster.shape[0])}\n",
    "dt_ppi_pos[\"virus_cluster\"] = [dict_virus_cluster[x] for x in dt_ppi_pos[\"virus_unid\"]]\n",
    "data_show = []\n",
    "for k,v in Counter(dt_ppi_pos[\"virus_cluster\"]).items():\n",
    "    data_show.append([k,v])\n",
    "data_show = pd.DataFrame(data_show, columns=[\"virus_cluster\", \"ppi_count\"])\n",
    "data_show.sort_values(by=[\"ppi_count\"], ascending=False, ignore_index=True, inplace=True)\n",
    "print(data_show.head(10))\n",
    "print(data_show.tail(5))"
   ]
  },
  {
   "cell_type": "code",
   "execution_count": 38,
   "id": "4485061c-a562-4ae3-9a2f-d9abac1f2f10",
   "metadata": {},
   "outputs": [
    {
     "name": "stdout",
     "output_type": "stream",
     "text": [
      "(4210, 3)\n",
      "(2680, 3)\n",
      "(1193, 3)\n",
      "(2527, 3)\n",
      "(3497, 3)\n",
      "(2207, 3)\n",
      "\n",
      "\n"
     ]
    }
   ],
   "source": [
    "## 正样本构建方法\n",
    "\n",
    "virus_pos_cluster_list = list(set(dt_ppi_pos[\"virus_cluster\"]))\n",
    "random.seed(3)\n",
    "virus_pos_cluster_list = random.sample(virus_pos_cluster_list, len(virus_pos_cluster_list))\n",
    "vpgp1 = dt_ppi_pos[dt_ppi_pos[\"virus_cluster\"].isin(virus_pos_cluster_list[0:84])].reset_index(drop=True)\n",
    "vpgp2 = dt_ppi_pos[dt_ppi_pos[\"virus_cluster\"].isin(virus_pos_cluster_list[84:84*2])].reset_index(drop=True)\n",
    "vpgp3 = dt_ppi_pos[dt_ppi_pos[\"virus_cluster\"].isin(virus_pos_cluster_list[84*2:84*3])].reset_index(drop=True)\n",
    "vpgp4 = dt_ppi_pos[dt_ppi_pos[\"virus_cluster\"].isin(virus_pos_cluster_list[84*3:84*4])].reset_index(drop=True)\n",
    "vpgp5 = dt_ppi_pos[dt_ppi_pos[\"virus_cluster\"].isin(virus_pos_cluster_list[84*4:84*5])].reset_index(drop=True)\n",
    "vpgp6 = dt_ppi_pos[dt_ppi_pos[\"virus_cluster\"].isin(virus_pos_cluster_list[84*5:])].reset_index(drop=True)\n",
    "\n",
    "print(vpgp1.shape)\n",
    "print(vpgp2.shape)\n",
    "print(vpgp3.shape)\n",
    "print(vpgp4.shape)\n",
    "print(vpgp5.shape)\n",
    "print(vpgp6.shape)\n",
    "print(\"\\n\")\n",
    "\n",
    "minPosCount = min([vpgp1.shape[0],vpgp2.shape[0],vpgp3.shape[0],vpgp4.shape[0],vpgp5.shape[0],vpgp6.shape[0]])\n",
    "dt_human_pos_neg_cluster = pd.read_csv(\"../original_dataset/human_prots_neg_posRes_cluster.tsv\", sep=\"\\t\", names=[\"cluster\",\"representative\"])\n",
    "dict_human_cluster = {dt_human_pos_neg_cluster[\"representative\"][i]:dt_human_pos_neg_cluster[\"cluster\"][i] for i in range(dt_human_pos_neg_cluster.shape[0])}\n",
    "\n",
    "def vpgpSampling(vpgpN, vpgpNRest, minPosCount, group):\n",
    "    if vpgpN.shape[0] == minPosCount:\n",
    "        vpgpN_new = vpgpN.loc[:, ['virus_unid', 'human_unid']]\n",
    "        vpgpN_new[\"group\"] = [group,]*len(vpgpN_new)\n",
    "        vpgpN_new[\"label\"] = [1.0,]*len(vpgpN_new)\n",
    "    else:\n",
    "        vpgpN[\"human_cluster\"] = [dict_human_cluster[vpgpN[\"human_unid\"][i]] for i in range(vpgpN.shape[0])]\n",
    "        vpgpNRest[\"human_cluster\"] = [dict_human_cluster[vpgpNRest[\"human_unid\"][i]] for i in range(vpgpNRest.shape[0])]\n",
    "        vpgpN_new = []\n",
    "        vpgpN_vhppi_list = [vpgpN[\"virus_unid\"][i]+\"-\"+vpgpN[\"human_unid\"][i]+\"-\"+vpgpN[\"human_cluster\"][i] for i in range(vpgpN.shape[0])]\n",
    "        vpgpN_virus_list = list([x.split(\"-\")[0] for x in vpgpN_vhppi_list])\n",
    "        vpgpN_vhppi_cluster, vpgpNRest_vhppi_cluster = list(set(vpgpN[\"human_cluster\"])), list(set(vpgpNRest[\"human_cluster\"]))\n",
    "\n",
    "        ## Top1\n",
    "        vpgpN_vhppi_target_cluster_top1 = list(set(vpgpN_vhppi_cluster)-set(vpgpNRest_vhppi_cluster)) ## vpgpN的human clusters 不在 vpgpNRest的human clusters中 (采样优先选这种)\n",
    "        #print(len(vpgpN_vhppi_target_cluster_top1))\n",
    "\n",
    "        temp_intersection = list(set(vpgpN_vhppi_cluster) & set(vpgpNRest_vhppi_cluster))\n",
    "        dt_temp_cluster_count, temp_element = [], [x for x in temp_intersection if x in vpgpNRest_vhppi_cluster]\n",
    "        for cluster, count in Counter(temp_element).items():\n",
    "            dt_temp_cluster_count.append([cluster, count])\n",
    "        dt_temp_cluster_count = pd.DataFrame(dt_temp_cluster_count, columns=[\"cluster\",\"count\"])\n",
    "        dt_temp_cluster_count.sort_values(by=[\"count\"], ascending=True, ignore_index=True, inplace=True)\n",
    "        ## Top2\n",
    "        vpgpN_vhppi_target_cluster_top2 = list(dt_temp_cluster_count[\"cluster\"])\n",
    "        #print(len(vpgpN_vhppi_target_cluster_top2))\n",
    "        \n",
    "        while len(vpgpN_new) < minPosCount:\n",
    "            vpgpN_virus_set = list(set(vpgpN_virus_list))\n",
    "            for vid in vpgpN_virus_set:\n",
    "                for vhppi in vpgpN_vhppi_list:\n",
    "                    if vid == vhppi.split(\"-\")[0]:\n",
    "                        if vhppi.split(\"-\")[2] in vpgpN_vhppi_target_cluster_top1:\n",
    "                            vpgpN_new.append(\"-\".join(vhppi.split(\"-\")[0:2]))\n",
    "                            break\n",
    "                        elif vhppi.split(\"-\")[2] in vpgpN_vhppi_target_cluster_top2:\n",
    "                            vpgpN_new.append(\"-\".join(vhppi.split(\"-\")[0:2]))\n",
    "                            break\n",
    "                        #else:\n",
    "                            #print(vhppi)\n",
    "                        #    break\n",
    "                if len(vpgpN_new)==minPosCount:\n",
    "                    break\n",
    "            vpgpN_vhppi_list = list(set(vpgpN_vhppi_list) - set(vpgpN_new))\n",
    "            vpgpN_virus_list = list([x.split(\"-\")[0] for x in vpgpN_vhppi_list])\n",
    "        vpgpN_new = [[x.split(\"-\")[0],x.split(\"-\")[1]] for x in vpgpN_new]\n",
    "        vpgpN_new = pd.DataFrame(vpgpN_new, columns=[\"virus_unid\",\"human_unid\"])\n",
    "        vpgpN_new[\"group\"] = [group,]*len(vpgpN_new)\n",
    "        vpgpN_new[\"label\"] = [1.0,]*len(vpgpN_new)\n",
    "\n",
    "    return vpgpN_new"
   ]
  },
  {
   "cell_type": "code",
   "execution_count": 39,
   "id": "8cf6b971-02c2-41d6-b3c9-9b0f3474ee71",
   "metadata": {},
   "outputs": [
    {
     "name": "stdout",
     "output_type": "stream",
     "text": [
      "(1193, 4)\n",
      "(1193, 4)\n",
      "(1193, 4)\n",
      "(1193, 4)\n",
      "(1193, 4)\n",
      "(1193, 4)\n",
      "(7158, 4)\n",
      "938\n"
     ]
    }
   ],
   "source": [
    "## 调用正样本构建方法\n",
    "\n",
    "vpgpN_1, vpgpNRest_1 = vpgp1, pd.concat([vpgp2, vpgp3, vpgp4, vpgp5, vpgp6], ignore_index=True)\n",
    "vpgpN_2, vpgpNRest_2 = vpgp2, pd.concat([vpgp1, vpgp3, vpgp4, vpgp5, vpgp6], ignore_index=True)\n",
    "vpgpN_3, vpgpNRest_3 = vpgp3, pd.concat([vpgp1, vpgp2, vpgp4, vpgp5, vpgp6], ignore_index=True)\n",
    "vpgpN_4, vpgpNRest_4 = vpgp4, pd.concat([vpgp1, vpgp2, vpgp3, vpgp5, vpgp6], ignore_index=True)\n",
    "vpgpN_5, vpgpNRest_5 = vpgp5, pd.concat([vpgp1, vpgp2, vpgp3, vpgp4, vpgp6], ignore_index=True)\n",
    "vpgpN_6, vpgpNRest_6 = vpgp6, pd.concat([vpgp1, vpgp2, vpgp3, vpgp4, vpgp5], ignore_index=True)\n",
    "\n",
    "vpgp1_new = vpgpSampling(vpgpN=vpgpN_1, vpgpNRest=vpgpNRest_1, minPosCount=minPosCount, group=\"gp_1\")\n",
    "vpgp2_new = vpgpSampling(vpgpN=vpgpN_2, vpgpNRest=vpgpNRest_2, minPosCount=minPosCount, group=\"gp_2\")\n",
    "vpgp3_new = vpgpSampling(vpgpN=vpgpN_3, vpgpNRest=vpgpNRest_3, minPosCount=minPosCount, group=\"gp_3\")\n",
    "vpgp4_new = vpgpSampling(vpgpN=vpgpN_4, vpgpNRest=vpgpNRest_4, minPosCount=minPosCount, group=\"gp_4\")\n",
    "vpgp5_new = vpgpSampling(vpgpN=vpgpN_5, vpgpNRest=vpgpNRest_5, minPosCount=minPosCount, group=\"gp_5\")\n",
    "vpgp6_new = vpgpSampling(vpgpN=vpgpN_6, vpgpNRest=vpgpNRest_6, minPosCount=minPosCount, group=\"gp_6\")\n",
    "        \n",
    "print(vpgp1_new.shape)\n",
    "print(vpgp2_new.shape)\n",
    "print(vpgp3_new.shape)\n",
    "print(vpgp4_new.shape)\n",
    "print(vpgp5_new.shape)\n",
    "print(vpgp6_new.shape)\n",
    "\n",
    "dt_temp_pos = pd.concat([vpgp1_new, vpgp2_new, vpgp3_new, vpgp4_new, vpgp5_new, vpgp6_new], ignore_index=True)\n",
    "print(dt_temp_pos.shape)\n",
    "print(len(set(dt_temp_pos[\"virus_unid\"])))"
   ]
  },
  {
   "cell_type": "markdown",
   "id": "2dc6c106-80d1-47e1-8418-d1b42d90dcb5",
   "metadata": {},
   "source": [
    "## 1.2 Construction of Negative PPIs"
   ]
  },
  {
   "cell_type": "code",
   "execution_count": 40,
   "id": "2c62676c-40ac-4a9d-bd03-29a817661355",
   "metadata": {},
   "outputs": [
    {
     "data": {
      "image/png": "[encoded data removed]",
      "text/plain": [
       "<Figure size 640x480 with 1 Axes>"
      ]
     },
     "metadata": {},
     "output_type": "display_data"
    }
   ],
   "source": [
    "## FengYang提供的所有人类病毒蛋白组数据，根据该数据，将vhppipred的所有宿主为非人哺乳动物的病毒蛋白在病毒种水平上进行去除，剩下的病毒蛋白用于构建vhppipred的负样本。\n",
    "\n",
    "## FengYang数据集中所有人类病毒\n",
    "dt_allhumanvirus_fengyang = pd.read_excel(\"../original_dataset/all_humanvirus_fengyang.xlsx\", sheet_name=\"Sheet1\", header=0)\n",
    "virusspeciesname_fengyang = set(dt_allhumanvirus_fengyang[\"Species\"])\n",
    "\n",
    "## 所有宿主为非人哺乳动物的病毒蛋白对应的病毒物种\n",
    "dict_nohumanvirus_species_prot = defaultdict(list)\n",
    "for record in SeqIO.parse(\"../original_dataset/virushostdb.formatted.cds.faa\", \"fasta\"):\n",
    "    virusspecies, virusprot = \" \".join(str(record.description).split(\"|\")[0].split()[1:]), str(record.id)\n",
    "    dict_nohumanvirus_species_prot[virusspecies].append(virusprot)\n",
    "virusspeciesname_nohuman = set(dict_nohumanvirus_species_prot.keys())\n",
    "\n",
    "## 二者在病毒种水平上的交集情况\n",
    "venn2(subsets = (len(set(virusspeciesname_fengyang)), len(set(virusspeciesname_nohuman)), len(set(virusspeciesname_fengyang) & set(virusspeciesname_nohuman))), set_labels=(\"vp_FengYang\", \"nohuman_vp_all\"))\n",
    "plt.show()"
   ]
  },
  {
   "cell_type": "code",
   "execution_count": 41,
   "id": "8c2031cc-47fb-47f3-a744-832070fca46a",
   "metadata": {},
   "outputs": [
    {
     "name": "stdout",
     "output_type": "stream",
     "text": [
      "7984\n"
     ]
    }
   ],
   "source": [
    "## 去掉vp_FengYang和nohuman_vp_all中重叠的病毒物种（261）后，剩下的宿主为非人哺乳动物病毒蛋白用于构建负样本\n",
    "except_virus_id = []\n",
    "for vspecies, vprotlist in dict_nohumanvirus_species_prot.items():\n",
    "    if vspecies in virusspeciesname_fengyang:\n",
    "        except_virus_id += vprotlist\n",
    "\n",
    "print(len(set(except_virus_id)))"
   ]
  },
  {
   "cell_type": "code",
   "execution_count": 42,
   "id": "fd878e6d-9f82-495c-abf0-171d4e392cdf",
   "metadata": {},
   "outputs": [
    {
     "name": "stdout",
     "output_type": "stream",
     "text": [
      "1818\n",
      "4087\n"
     ]
    }
   ],
   "source": [
    "## 负样本病毒蛋白和人类蛋白\n",
    "\n",
    "dt_virus_nohvirus_cluster = pd.read_csv(\"../original_dataset/virus_prots_nohuman_virus_protsRes_cluster.tsv\", sep=\"\\t\", names=[\"cluster\",\"representative\"])\n",
    "dt_nohvirus_cluster = pd.DataFrame(data=None, columns=[\"cluster\", \"representative\"])\n",
    "for _,gp in dt_virus_nohvirus_cluster.groupby(by=[\"cluster\"]):\n",
    "    gp.reset_index(drop=True, inplace=True)\n",
    "    if (len(set(gp[\"representative\"]) & set(dt_virus_cluster[\"representative\"]))==0) and (len(set(gp[\"representative\"]) & set(except_virus_id))==0):\n",
    "        dt_nohvirus_cluster = pd.concat([dt_nohvirus_cluster, gp], ignore_index=True)\n",
    "virus_neg_cluster_list = list(set(dt_nohvirus_cluster[\"cluster\"]))\n",
    "print(len(virus_neg_cluster_list)) ## 负样本病毒蛋白簇\n",
    "\n",
    "\n",
    "dt_human_pos_cluster = pd.read_csv(\"../original_dataset/human_prots_posRes_cluster.tsv\", sep=\"\\t\", names=[\"cluster\",\"representative\"])\n",
    "dt_human_pos_neg_cluster = pd.read_csv(\"../original_dataset/human_prots_neg_posRes_cluster.tsv\", sep=\"\\t\", names=[\"cluster\",\"representative\"])\n",
    "dt_human_neg_cluster = pd.DataFrame(data=None, columns=[\"cluster\",\"representative\"])\n",
    "for _,gp in dt_human_pos_neg_cluster.groupby(by=[\"cluster\"]):\n",
    "    gp.reset_index(drop=True, inplace=True)\n",
    "    if len(set(gp[\"representative\"]) & set(dt_human_pos_cluster[\"representative\"]))==0:\n",
    "        dt_human_neg_cluster = pd.concat([dt_human_neg_cluster, gp], ignore_index=True)\n",
    "human_neg_cluster_list = list(set(dt_human_neg_cluster[\"cluster\"]))\n",
    "print(len(human_neg_cluster_list)) ## 负样本人类蛋白"
   ]
  },
  {
   "cell_type": "code",
   "execution_count": 43,
   "id": "6332271d-030d-4f5f-94d2-b7c4f8d64e82",
   "metadata": {},
   "outputs": [
    {
     "name": "stdout",
     "output_type": "stream",
     "text": [
      "(361030, 2)\n",
      "(359373, 2)\n",
      "(432540, 2)\n",
      "(393624, 2)\n",
      "(464056, 2)\n",
      "(384030, 2)\n"
     ]
    }
   ],
   "source": [
    "## 负样本构建方法 (-)\n",
    "\n",
    "random.seed(3)\n",
    "\n",
    "## 1818/6 = 303\n",
    "virus_neg_cluster_list = random.sample(virus_neg_cluster_list, len(virus_neg_cluster_list)) ## 负样本人类蛋白簇\n",
    "vnclu1 = dt_nohvirus_cluster[dt_nohvirus_cluster[\"cluster\"].isin(virus_neg_cluster_list[0:303])].reset_index(drop=True)\n",
    "vnclu2 = dt_nohvirus_cluster[dt_nohvirus_cluster[\"cluster\"].isin(virus_neg_cluster_list[303:303*2])].reset_index(drop=True)\n",
    "vnclu3 = dt_nohvirus_cluster[dt_nohvirus_cluster[\"cluster\"].isin(virus_neg_cluster_list[303*2:303*3])].reset_index(drop=True)\n",
    "vnclu4 = dt_nohvirus_cluster[dt_nohvirus_cluster[\"cluster\"].isin(virus_neg_cluster_list[303*3:303*4])].reset_index(drop=True)\n",
    "vnclu5 = dt_nohvirus_cluster[dt_nohvirus_cluster[\"cluster\"].isin(virus_neg_cluster_list[303*4:303*5])].reset_index(drop=True)\n",
    "vnclu6 = dt_nohvirus_cluster[dt_nohvirus_cluster[\"cluster\"].isin(virus_neg_cluster_list[303*5:])].reset_index(drop=True)\n",
    "\n",
    "\n",
    "human_neg_cluster_list = random.sample(human_neg_cluster_list, len(human_neg_cluster_list))  ## 负样本人类蛋白簇\n",
    "hnclu1 = dt_human_neg_cluster[dt_human_neg_cluster[\"cluster\"].isin(human_neg_cluster_list[0:681])].reset_index(drop=True)\n",
    "hnclu2 = dt_human_neg_cluster[dt_human_neg_cluster[\"cluster\"].isin(human_neg_cluster_list[681:681*2])].reset_index(drop=True)\n",
    "hnclu3 = dt_human_neg_cluster[dt_human_neg_cluster[\"cluster\"].isin(human_neg_cluster_list[681*2:681*3])].reset_index(drop=True)\n",
    "hnclu4 = dt_human_neg_cluster[dt_human_neg_cluster[\"cluster\"].isin(human_neg_cluster_list[681*3:681*4])].reset_index(drop=True)\n",
    "hnclu5 = dt_human_neg_cluster[dt_human_neg_cluster[\"cluster\"].isin(human_neg_cluster_list[681*4:681*5])].reset_index(drop=True)\n",
    "hnclu6 = dt_human_neg_cluster[dt_human_neg_cluster[\"cluster\"].isin(human_neg_cluster_list[681*5:])].reset_index(drop=True)\n",
    "\n",
    "## 负样本病毒蛋白簇和人类蛋白簇进行随机组合\n",
    "vngp1 = pd.DataFrame(list(product(list(vnclu1[\"representative\"]), list(hnclu1[\"representative\"]))), columns=[\"virus_unid\", \"human_unid\"])\n",
    "vngp2 = pd.DataFrame(list(product(list(vnclu2[\"representative\"]), list(hnclu2[\"representative\"]))), columns=[\"virus_unid\", \"human_unid\"])\n",
    "vngp3 = pd.DataFrame(list(product(list(vnclu3[\"representative\"]), list(hnclu3[\"representative\"]))), columns=[\"virus_unid\", \"human_unid\"])\n",
    "vngp4 = pd.DataFrame(list(product(list(vnclu4[\"representative\"]), list(hnclu4[\"representative\"]))), columns=[\"virus_unid\", \"human_unid\"])\n",
    "vngp5 = pd.DataFrame(list(product(list(vnclu5[\"representative\"]), list(hnclu5[\"representative\"]))), columns=[\"virus_unid\", \"human_unid\"])\n",
    "vngp6 = pd.DataFrame(list(product(list(vnclu6[\"representative\"]), list(hnclu6[\"representative\"]))), columns=[\"virus_unid\", \"human_unid\"])\n",
    "\n",
    "print(vngp1.shape)\n",
    "print(vngp2.shape)\n",
    "print(vngp3.shape)\n",
    "print(vngp4.shape)\n",
    "print(vngp5.shape)\n",
    "print(vngp6.shape)\n",
    "\n",
    "\n",
    "\n",
    "def vngpSampling(vngpN, vngpNRest, minPosCount, group, fold=10): ## fold: pos:neg=1:10\n",
    "    if vngpN.shape[0] == minPosCount*fold:\n",
    "        vngpN_new = vngpN.loc[:, ['virus_unid', 'human_unid']]\n",
    "        vngpN_new[\"group\"] = [group,]*len(vngpN_new)\n",
    "        vngpN_new[\"label\"] = [0.0,]*len(vngpN_new)\n",
    "    else:\n",
    "        vngpN[\"human_cluster\"] = [dict_human_cluster[vngpN[\"human_unid\"][i]] for i in range(vngpN.shape[0])]\n",
    "        vngpNRest[\"human_cluster\"] = [dict_human_cluster[vngpNRest[\"human_unid\"][i]] for i in range(vngpNRest.shape[0])]\n",
    "        vngpN_new = []\n",
    "        vngpN_vhppi_list = [vngpN[\"virus_unid\"][i]+\"-\"+vngpN[\"human_unid\"][i]+\"-\"+vngpN[\"human_cluster\"][i] for i in range(vngpN.shape[0])]\n",
    "        vngpN_virus_list = list([x.split(\"-\")[0] for x in vngpN_vhppi_list])\n",
    "        vngpN_vhppi_cluster, vngpNRest_vhppi_cluster = list(set(vngpN[\"human_cluster\"])), list(set(vngpNRest[\"human_cluster\"]))\n",
    "\n",
    "        ## Top1\n",
    "        vngpN_vhppi_target_cluster_top1 = list(set(vngpN_vhppi_cluster)-set(vngpNRest_vhppi_cluster)) ## vngpN的human clusters 不在 vngpNRest的human clusters中 (采样优先选这种)\n",
    "        #print(len(vngpN_vhppi_target_cluster_top1))\n",
    "\n",
    "        temp_intersection = list(set(vngpN_vhppi_cluster) & set(vngpNRest_vhppi_cluster))\n",
    "        dt_temp_cluster_count, temp_element = [], [x for x in temp_intersection if x in vngpNRest_vhppi_cluster]\n",
    "        for cluster, count in Counter(temp_element).items():\n",
    "            dt_temp_cluster_count.append([cluster, count])\n",
    "        dt_temp_cluster_count = pd.DataFrame(dt_temp_cluster_count, columns=[\"cluster\",\"count\"])\n",
    "        dt_temp_cluster_count.sort_values(by=[\"count\"], ascending=True, ignore_index=True, inplace=True)\n",
    "        ## Top2\n",
    "        vngpN_vhppi_target_cluster_top2 = list(dt_temp_cluster_count[\"cluster\"])\n",
    "        #print(len(vngpN_vhppi_target_cluster_top2))\n",
    "        \n",
    "        while len(vngpN_new) < minPosCount*10:\n",
    "            vngpN_virus_set = list(set(vngpN_virus_list))\n",
    "            for vid in vngpN_virus_set:\n",
    "                for vhppi in vngpN_vhppi_list:\n",
    "                    if vid == vhppi.split(\"-\")[0]:\n",
    "                        if vhppi.split(\"-\")[2] in vngpN_vhppi_target_cluster_top1:\n",
    "                            vngpN_new.append(\"-\".join(vhppi.split(\"-\")[0:2]))\n",
    "                            break\n",
    "                        elif vhppi.split(\"-\")[2] in vngpN_vhppi_target_cluster_top2:\n",
    "                            vngpN_new.append(\"-\".join(vhppi.split(\"-\")[0:2]))\n",
    "                            break\n",
    "                        #else:\n",
    "                            #print(vhppi)\n",
    "                        #    break\n",
    "                if len(vngpN_new)==minPosCount*fold:\n",
    "                    break\n",
    "            vngpN_vhppi_list = list(set(vngpN_vhppi_list) - set(vngpN_new))\n",
    "            vngpN_virus_list = list([x.split(\"-\")[0] for x in vngpN_vhppi_list])\n",
    "        vngpN_new = [[x.split(\"-\")[0],x.split(\"-\")[1]] for x in vngpN_new]\n",
    "        vngpN_new = pd.DataFrame(vngpN_new, columns=[\"virus_unid\",\"human_unid\"])\n",
    "        vngpN_new[\"group\"] = [group,]*len(vngpN_new)\n",
    "        vngpN_new[\"label\"] = [0.0,]*len(vngpN_new)\n",
    "\n",
    "    return vngpN_new\n",
    "\n"
   ]
  },
  {
   "cell_type": "code",
   "execution_count": 44,
   "id": "10a6bf56-e374-4069-9aae-1e383cdaeb2b",
   "metadata": {},
   "outputs": [
    {
     "name": "stdout",
     "output_type": "stream",
     "text": [
      "(11930, 4)\n",
      "(11930, 4)\n",
      "(11930, 4)\n",
      "(11930, 4)\n",
      "(11930, 4)\n",
      "(11930, 4)\n"
     ]
    }
   ],
   "source": [
    "## 调用负样本构建方法\n",
    "\n",
    "vngpN_1, vngpNRest_1 = vngp1, pd.concat([vngp2, vngp3, vngp4, vngp5, vngp6], ignore_index=True)\n",
    "vngpN_2, vngpNRest_2 = vngp2, pd.concat([vngp1, vngp3, vngp4, vngp5, vngp6], ignore_index=True)\n",
    "vngpN_3, vngpNRest_3 = vngp3, pd.concat([vngp1, vngp2, vngp4, vngp5, vngp6], ignore_index=True)\n",
    "vngpN_4, vngpNRest_4 = vngp4, pd.concat([vngp1, vngp2, vngp3, vngp5, vngp6], ignore_index=True)\n",
    "vngpN_5, vngpNRest_5 = vngp5, pd.concat([vngp1, vngp2, vngp3, vngp4, vngp6], ignore_index=True)\n",
    "vngpN_6, vngpNRest_6 = vngp6, pd.concat([vngp1, vngp2, vngp3, vngp4, vngp5], ignore_index=True)\n",
    "\n",
    "vngp1_new = vngpSampling(vngpN=vngpN_1, vngpNRest=vngpNRest_1, minPosCount=minPosCount, group=\"gp_1\", fold=10)\n",
    "vngp2_new = vngpSampling(vngpN=vngpN_2, vngpNRest=vngpNRest_2, minPosCount=minPosCount, group=\"gp_2\", fold=10)\n",
    "vngp3_new = vngpSampling(vngpN=vngpN_3, vngpNRest=vngpNRest_3, minPosCount=minPosCount, group=\"gp_3\", fold=10)\n",
    "vngp4_new = vngpSampling(vngpN=vngpN_4, vngpNRest=vngpNRest_4, minPosCount=minPosCount, group=\"gp_4\", fold=10)\n",
    "vngp5_new = vngpSampling(vngpN=vngpN_5, vngpNRest=vngpNRest_5, minPosCount=minPosCount, group=\"gp_5\", fold=10)\n",
    "vngp6_new = vngpSampling(vngpN=vngpN_6, vngpNRest=vngpNRest_6, minPosCount=minPosCount, group=\"gp_6\", fold=10)\n",
    "        \n",
    "print(vngp1_new.shape)\n",
    "print(vngp2_new.shape)\n",
    "print(vngp3_new.shape)\n",
    "print(vngp4_new.shape)\n",
    "print(vngp5_new.shape)\n",
    "print(vngp6_new.shape)"
   ]
  },
  {
   "cell_type": "code",
   "execution_count": 46,
   "id": "40286dce-a445-4f50-8554-34631e9d05a9",
   "metadata": {
    "execution": {
     "iopub.execute_input": "2024-08-12T08:34:22.630168Z",
     "iopub.status.busy": "2024-08-12T08:34:22.629777Z",
     "iopub.status.idle": "2024-08-12T08:34:23.015867Z",
     "shell.execute_reply": "2024-08-12T08:34:23.014866Z",
     "shell.execute_reply.started": "2024-08-12T08:34:22.630128Z"
    }
   },
   "outputs": [],
   "source": [
    "## 正负样本合并\n",
    "dt_res = pd.concat([vpgp1_new, vngp1_new, \n",
    "                    vpgp2_new, vngp2_new,\n",
    "                    vpgp3_new, vngp3_new,\n",
    "                    vpgp4_new, vngp4_new,\n",
    "                    vpgp5_new, vngp5_new,\n",
    "                    vpgp6_new, vngp6_new], ignore_index=True)\n",
    "\n",
    "\n",
    "dt_res.to_csv(\"../dataset/data_fold10.csv\", sep=\"\\t\", index=False) ## 不同fold之间的病毒蛋白没有相似性，但是人类蛋白可能存在相似性。\n",
    "dt_human_pos_neg_cluster = pd.read_csv(\"../original_dataset/human_prots_neg_posRes_cluster.tsv\", sep=\"\\t\", names=[\"cluster\",\"representative\"])\n",
    "dict_human_cluster = {dt_human_pos_neg_cluster[\"representative\"][i]:dt_human_pos_neg_cluster[\"cluster\"][i] for i in range(dt_human_pos_neg_cluster.shape[0])}\n",
    "dt_res[\"human_cluster\"] = [dict_human_cluster[h] for h in dt_res[\"human_unid\"]]\n",
    "dt_res.to_csv(\"../dataset/data_fold10_info.csv\", sep=\"\\t\", index=False)"
   ]
  },
  {
   "cell_type": "code",
   "execution_count": 49,
   "id": "30bb5202-58ad-43b9-8385-ba7929ddf7d1",
   "metadata": {
    "execution": {
     "iopub.execute_input": "2024-08-12T08:35:26.371882Z",
     "iopub.status.busy": "2024-08-12T08:35:26.371066Z",
     "iopub.status.idle": "2024-08-12T08:35:27.016554Z",
     "shell.execute_reply": "2024-08-12T08:35:27.015481Z",
     "shell.execute_reply.started": "2024-08-12T08:35:26.371839Z"
    }
   },
   "outputs": [
    {
     "name": "stdout",
     "output_type": "stream",
     "text": [
      "3980\n",
      "938\n",
      "3042\n",
      "3872\n",
      "1625\n",
      "2247\n"
     ]
    },
    {
     "data": {
      "image/png": "[encoded data removed]",
      "text/plain": [
       "<Figure size 640x480 with 2 Axes>"
      ]
     },
     "metadata": {},
     "output_type": "display_data"
    }
   ],
   "source": [
    "## 可视化子集之间人类蛋白簇的相似度\n",
    "\n",
    "dt_dataset_fold10 = dt_res\n",
    "dt_dataset_fold10_pos = dt_dataset_fold10[dt_dataset_fold10[\"label\"]==1.0].reset_index(drop=True)\n",
    "dt_dataset_fold10_neg = dt_dataset_fold10[dt_dataset_fold10[\"label\"]==0.0].reset_index(drop=True)\n",
    "\n",
    "print(len(set(dt_dataset_fold10[\"virus_unid\"])))\n",
    "print(len(set(dt_dataset_fold10_pos[\"virus_unid\"])))\n",
    "print(len(set(dt_dataset_fold10_neg[\"virus_unid\"])))\n",
    "\n",
    "print(len(set(dt_dataset_fold10[\"human_unid\"])))\n",
    "print(len(set(dt_dataset_fold10_pos[\"human_unid\"])))\n",
    "print(len(set(dt_dataset_fold10_neg[\"human_unid\"])))\n",
    "\n",
    "\n",
    "##-----------------\n",
    "overlapMatrix = np.zeros((6,6))\n",
    "for i in range(1,7):\n",
    "    dt_i = dt_dataset_fold10[dt_dataset_fold10[\"group\"]==\"gp_\"+str(i)].reset_index(drop=True)\n",
    "    set_i_hp = set(dt_i[\"human_cluster\"])\n",
    "    for j in range(1,7):\n",
    "        dt_j = dt_dataset_fold10[dt_dataset_fold10[\"group\"]==\"gp_\"+str(j)].reset_index(drop=True)\n",
    "        set_j_hp = set(dt_j[\"human_cluster\"])\n",
    "        ## 计算杰卡德距离 = 1-杰卡德相似性 (距离越大与不相似，越小越相似)\n",
    "        jaccard_similarity = len(set_i_hp & set_j_hp)/len(set_i_hp | set_j_hp)\n",
    "        overlapMatrix[i-1, j-1] = jaccard_similarity\n",
    "\n",
    "xLabel = [\"dt1\", \"dt2\", \"dt3\", \"dt4\", \"dt5\", \"dt6\"]\n",
    "yLabel = [\"dt1\", \"dt2\", \"dt3\", \"dt4\", \"dt5\", \"dt6\"]\n",
    "\n",
    "#fig = plt.figure()\n",
    "#ax = fig.add_subplot(111)\n",
    "fig, ax = plt.subplots()\n",
    "ax.set_yticks(range(len(yLabel)))\n",
    "ax.set_yticklabels(yLabel)\n",
    "ax.set_xticks(range(len(xLabel)))\n",
    "ax.set_xticklabels(xLabel)\n",
    "\n",
    "im = ax.imshow(overlapMatrix, cmap=\"YlGn\")\n",
    "for i in range(len(yLabel)):\n",
    "    for j in range(len(xLabel)):\n",
    "        ax.text(j, i, '{:.2f}'.format(overlapMatrix[i, j]), ha=\"center\", va=\"center\", color=\"black\")\n",
    "plt.colorbar(im)\n",
    "plt.title(\"Jaccard similarity on New dataset with new method\")\n",
    "plt.show()\n"
   ]
  },
  {
   "cell_type": "markdown",
   "id": "809bca85-ff8c-4503-b6ef-9fd737ba05d3",
   "metadata": {},
   "source": [
    "## 1.3 Component of benchmark dataset"
   ]
  },
  {
   "cell_type": "code",
   "execution_count": 52,
   "id": "71600e86-4d95-4461-8deb-41d1eccc7e97",
   "metadata": {
    "execution": {
     "iopub.execute_input": "2024-08-12T08:48:39.902222Z",
     "iopub.status.busy": "2024-08-12T08:48:39.901722Z",
     "iopub.status.idle": "2024-08-12T08:48:39.992271Z",
     "shell.execute_reply": "2024-08-12T08:48:39.991006Z",
     "shell.execute_reply.started": "2024-08-12T08:48:39.902180Z"
    }
   },
   "outputs": [
    {
     "name": "stdout",
     "output_type": "stream",
     "text": [
      "Subset\tPositive\tNegative\n",
      "gp_1\t1193\t11930\n",
      "gp_2\t1193\t11930\n",
      "gp_3\t1193\t11930\n",
      "gp_4\t1193\t11930\n",
      "gp_5\t1193\t11930\n",
      "gp_6\t1193\t11930\n",
      "SUM\t7158\t71580\n",
      "包含 3980 个病毒蛋白 (938pos + 3042neg) 和 3872 个人类蛋白 (1625pos + 2247neg)\n"
     ]
    }
   ],
   "source": [
    "dt_dataset = pd.read_csv(\"../dataset/data_fold10.csv\", sep=\"\\t\", header=0)\n",
    "print(\"%s\\t%s\\t%s\" % (\"Subset\",\"Positive\",\"Negative\"))\n",
    "for dt_n, gp in dt_dataset.groupby(by=\"group\"):\n",
    "    gp.reset_index(drop=True, inplace=True)\n",
    "    gp_pos = gp[gp[\"label\"]==1.0].reset_index(drop=True)\n",
    "    gp_neg = gp[gp[\"label\"]==0.0].reset_index(drop=True)\n",
    "    print(\"%s\\t%s\\t%s\" % (dt_n, gp_pos.shape[0], gp_neg.shape[0]))\n",
    "\n",
    "dt_dataset_pos = dt_dataset[dt_dataset[\"label\"]==1.0].reset_index(drop=True)\n",
    "dt_dataset_neg = dt_dataset[dt_dataset[\"label\"]==0.0].reset_index(drop=True)\n",
    "print(\"%s\\t%s\\t%s\" % (\"SUM\",dt_dataset_pos.shape[0], dt_dataset_neg.shape[0]))\n",
    "\n",
    "print(\"包含 {} 个病毒蛋白 ({}pos + {}neg) 和 {} 个人类蛋白 ({}pos + {}neg)\".format(len(set(dt_dataset[\"virus_unid\"])), len(set(dt_dataset_pos[\"virus_unid\"])), len(set(dt_dataset_neg[\"virus_unid\"])),\\\n",
    "                                                                     len(set(dt_dataset[\"human_unid\"])), len(set(dt_dataset_pos[\"human_unid\"])), len(set(dt_dataset_neg[\"human_unid\"]))))"
   ]
  },
  {
   "cell_type": "code",
   "execution_count": null,
   "id": "172fb91d-435f-4bd5-a52c-6d3f438b7266",
   "metadata": {},
   "outputs": [],
   "source": []
  },
  {
   "cell_type": "markdown",
   "id": "7ff89448-45ef-440e-8697-97d4bca1dba3",
   "metadata": {},
   "source": [
    "# 2. Removing overlapped PPIs between benchmark dataset and Yang's Dataset, Zhou's Dataset and DeNovo Dataset:"
   ]
  },
  {
   "cell_type": "code",
   "execution_count": 1,
   "id": "f0dfb2fd-88dd-465f-9659-0c1fae90fa42",
   "metadata": {
    "execution": {
     "iopub.execute_input": "2025-04-02T06:48:25.404812Z",
     "iopub.status.busy": "2025-04-02T06:48:25.404413Z",
     "iopub.status.idle": "2025-04-02T06:48:26.107845Z",
     "shell.execute_reply": "2025-04-02T06:48:26.106546Z",
     "shell.execute_reply.started": "2025-04-02T06:48:25.404780Z"
    }
   },
   "outputs": [],
   "source": [
    "# 导入模块\n",
    "import pandas as pd"
   ]
  },
  {
   "cell_type": "code",
   "execution_count": 2,
   "id": "ef231cac-4994-4863-b6de-6f2fc3f598d1",
   "metadata": {
    "execution": {
     "iopub.execute_input": "2025-04-02T06:48:29.142563Z",
     "iopub.status.busy": "2025-04-02T06:48:29.141886Z",
     "iopub.status.idle": "2025-04-02T06:48:29.922281Z",
     "shell.execute_reply": "2025-04-02T06:48:29.921037Z",
     "shell.execute_reply.started": "2025-04-02T06:48:29.142532Z"
    }
   },
   "outputs": [
    {
     "name": "stdout",
     "output_type": "stream",
     "text": [
      "8432\n"
     ]
    }
   ],
   "source": [
    "ppi_vhppipred_dataset_fold10 = []\n",
    "\n",
    "dt_vhppipred_fold10 = pd.read_csv(\"../../dataset/data_fold10.csv\", sep=\"\\t\", header=0)\n",
    "for i in range(dt_vhppipred_fold10.shape[0]):\n",
    "    ppi_vhppipred_dataset_fold10.append(dt_vhppipred_fold10[\"virus_unid\"][i]+\"-\"+dt_vhppipred_fold10[\"human_unid\"][i])\n",
    "\n",
    "print(len(set(ppi_vhppipred_dataset_fold10)))"
   ]
  },
  {
   "cell_type": "markdown",
   "id": "1734b75a-1077-48fd-ba51-a3f0b7cc35e0",
   "metadata": {},
   "source": [
    "## 2.1 Yang's dataset"
   ]
  },
  {
   "cell_type": "code",
   "execution_count": 4,
   "id": "6d8f089a-685e-4de6-95ae-4ddb641f6e6e",
   "metadata": {
    "execution": {
     "iopub.execute_input": "2024-08-19T03:22:25.601635Z",
     "iopub.status.busy": "2024-08-19T03:22:25.600743Z",
     "iopub.status.idle": "2024-08-19T03:22:56.168633Z",
     "shell.execute_reply": "2024-08-19T03:22:56.167607Z",
     "shell.execute_reply.started": "2024-08-19T03:22:25.601593Z"
    }
   },
   "outputs": [
    {
     "name": "stdout",
     "output_type": "stream",
     "text": [
      "Before:(13651, 3)\n",
      "Fold10_nr:(13403, 3)\n"
     ]
    }
   ],
   "source": [
    "dt_yangdeepviral = pd.read_csv(\"../../YangDeepViralDatasetEmbed/data_yangdeepviral.csv\", sep=\"\\t\", header=0)\n",
    "dt_yangdeepviral_fold10_nr = []\n",
    "for i in range(dt_yangdeepviral.shape[0]):\n",
    "    if dt_yangdeepviral[\"virus_unid\"][i]+\"-\"+dt_yangdeepviral[\"human_unid\"][i] not in set(ppi_vhppipred_dataset_fold10):\n",
    "        dt_yangdeepviral_fold10_nr.append([dt_yangdeepviral[\"virus_unid\"][i], dt_yangdeepviral[\"human_unid\"][i], dt_yangdeepviral[\"label\"][i]])\n",
    "        \n",
    "dt_yangdeepviral_fold10_nr = pd.DataFrame(dt_yangdeepviral_fold10_nr, columns=[\"virus_unid\", \"human_unid\", \"label\"])\n",
    "dt_yangdeepviral_fold10_nr.to_csv(\"../../YangDeepViralDatasetEmbed/data_yangdeepviral_fold10_nr.csv\", sep=\"\\t\", index=False)\n",
    "\n",
    "print(\"Before:{}\\nFold10_nr:{}\".format(dt_yangdeepviral.shape, dt_yangdeepviral_fold10_nr.shape))"
   ]
  },
  {
   "cell_type": "markdown",
   "id": "04e41f0d-1552-4b9d-b5f5-c1098c21a6fc",
   "metadata": {},
   "source": [
    "## 2.2 Zhou's dataset"
   ]
  },
  {
   "cell_type": "code",
   "execution_count": 3,
   "id": "b40c225f-fb96-4d8d-a0f5-a1de6e6f9b31",
   "metadata": {
    "execution": {
     "iopub.execute_input": "2025-04-02T06:48:40.043969Z",
     "iopub.status.busy": "2025-04-02T06:48:40.043511Z",
     "iopub.status.idle": "2025-04-02T06:48:41.670653Z",
     "shell.execute_reply": "2025-04-02T06:48:41.669280Z",
     "shell.execute_reply.started": "2025-04-02T06:48:40.043936Z"
    }
   },
   "outputs": [
    {
     "name": "stdout",
     "output_type": "stream",
     "text": [
      "Before:(749, 3)\n",
      "Fold10_nr:(748, 3)\n"
     ]
    }
   ],
   "source": [
    "#dt_zhou = pd.read_csv(\"../../ZhouDatasetEmbed/data_zhou.csv\", sep=\"\\t\", header=0)\n",
    "dt_zhou = pd.read_csv(\"../../../ZhouDatasetEmbed_new/data_zhou_ppi_new.csv\", sep=\"\\t\", header=0)\n",
    "dt_zhou_fold10_nr = []\n",
    "for i in range(dt_zhou.shape[0]):\n",
    "    if dt_zhou[\"virus_unid\"][i]+\"-\"+dt_zhou[\"human_unid\"][i] not in set(ppi_vhppipred_dataset_fold10):\n",
    "        dt_zhou_fold10_nr.append([dt_zhou[\"virus_unid\"][i], dt_zhou[\"human_unid\"][i], dt_zhou[\"label\"][i]])\n",
    "\n",
    "dt_zhou_fold10_nr = pd.DataFrame(dt_zhou_fold10_nr, columns=[\"virus_unid\", \"human_unid\", \"label\"])\n",
    "dt_zhou_fold10_nr.to_csv(\"../../../ZhouDatasetEmbed_new/data_zhou_new_fold10_nr.csv\", sep=\"\\t\", index=False)\n",
    "\n",
    "print(\"Before:{}\\nFold10_nr:{}\".format(dt_zhou.shape, dt_zhou_fold10_nr.shape))"
   ]
  },
  {
   "cell_type": "markdown",
   "id": "5923ccb8-d339-408a-8826-599dd12f56e7",
   "metadata": {},
   "source": [
    "## 2.3 DeNovo dataset"
   ]
  },
  {
   "cell_type": "code",
   "execution_count": 6,
   "id": "c366c0fe-d5fa-469d-9b7b-defcbe20b971",
   "metadata": {
    "execution": {
     "iopub.execute_input": "2024-08-19T03:27:54.005433Z",
     "iopub.status.busy": "2024-08-19T03:27:54.004911Z",
     "iopub.status.idle": "2024-08-19T03:28:04.796585Z",
     "shell.execute_reply": "2024-08-19T03:28:04.795554Z",
     "shell.execute_reply.started": "2024-08-19T03:27:54.005392Z"
    }
   },
   "outputs": [
    {
     "name": "stdout",
     "output_type": "stream",
     "text": [
      "Before:(5151, 3)\n",
      "Fold10_nr:(4800, 3)\n"
     ]
    }
   ],
   "source": [
    "dt_denovo = pd.read_csv(\"../../DeNovoDatasetEmbed/data_denovo.csv\", sep=\"\\t\", header=0)\n",
    "dt_denovo_fold10_nr = []\n",
    "for i in range(dt_denovo.shape[0]):\n",
    "    if dt_denovo[\"virus_unid\"][i]+\"-\"+dt_denovo[\"human_unid\"][i] not in set(ppi_vhppipred_dataset_fold10):\n",
    "        dt_denovo_fold10_nr.append([dt_denovo[\"virus_unid\"][i], dt_denovo[\"human_unid\"][i], dt_denovo[\"label\"][i]])\n",
    "\n",
    "dt_denovo_fold10_nr = pd.DataFrame(dt_denovo_fold10_nr, columns=[\"virus_unid\", \"human_unid\", \"label\"])\n",
    "dt_denovo_fold10_nr.to_csv(\"../../DeNovoDatasetEmbed/data_denovo_fold10_nr.csv\", sep=\"\\t\", index=False)\n",
    "\n",
    "print(\"Before:{}\\nFold10_nr:{}\".format(dt_denovo.shape, dt_denovo_fold10_nr.shape))"
   ]
  },
  {
   "cell_type": "code",
   "execution_count": null,
   "id": "c69fcb9a-4aa3-408b-a9d4-0bb25b602933",
   "metadata": {},
   "outputs": [],
   "source": []
  }
 ],
 "metadata": {
  "kernelspec": {
   "display_name": "vhppipred",
   "language": "python",
   "name": "vhppipred"
  },
  "language_info": {
   "codemirror_mode": {
    "name": "ipython",
    "version": 3
   },
   "file_extension": ".py",
   "mimetype": "text/x-python",
   "name": "python",
   "nbconvert_exporter": "python",
   "pygments_lexer": "ipython3",
   "version": "3.8.19"
  }
 },
 "nbformat": 4,
 "nbformat_minor": 5
}
